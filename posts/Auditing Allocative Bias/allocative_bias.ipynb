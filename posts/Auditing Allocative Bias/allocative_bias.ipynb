{
 "cells": [
  {
   "attachments": {},
   "cell_type": "markdown",
   "metadata": {},
   "source": [
    "---\n",
    "title: Auditing Allocative Bias\n",
    "author: Anweshan Adhikari\n",
    "image: \"image.jpg\"\n",
    "description: \"Exploring the impact of algorithmic decision making on equality\"\n",
    "format: html\n",
    "order: 11\n",
    "\n",
    "---"
   ]
  },
  {
   "attachments": {},
   "cell_type": "markdown",
   "metadata": {},
   "source": [
    "# Introduction to the dataset\n",
    "\n",
    "In this blog, we will be working with data from American Community Survey using the ACSDataSource class. Each row in our datset represents an individual who took the PUMA survey in Colorado, USA. First, let's have a look at our dataset:."
   ]
  },
  {
   "cell_type": "code",
   "execution_count": 1,
   "metadata": {},
   "outputs": [
    {
     "data": {
      "text/html": [
       "<div>\n",
       "<style scoped>\n",
       "    .dataframe tbody tr th:only-of-type {\n",
       "        vertical-align: middle;\n",
       "    }\n",
       "\n",
       "    .dataframe tbody tr th {\n",
       "        vertical-align: top;\n",
       "    }\n",
       "\n",
       "    .dataframe thead th {\n",
       "        text-align: right;\n",
       "    }\n",
       "</style>\n",
       "<table border=\"1\" class=\"dataframe\">\n",
       "  <thead>\n",
       "    <tr style=\"text-align: right;\">\n",
       "      <th></th>\n",
       "      <th>RT</th>\n",
       "      <th>SERIALNO</th>\n",
       "      <th>DIVISION</th>\n",
       "      <th>SPORDER</th>\n",
       "      <th>PUMA</th>\n",
       "      <th>REGION</th>\n",
       "      <th>ST</th>\n",
       "      <th>ADJINC</th>\n",
       "      <th>PWGTP</th>\n",
       "      <th>AGEP</th>\n",
       "      <th>...</th>\n",
       "      <th>PWGTP71</th>\n",
       "      <th>PWGTP72</th>\n",
       "      <th>PWGTP73</th>\n",
       "      <th>PWGTP74</th>\n",
       "      <th>PWGTP75</th>\n",
       "      <th>PWGTP76</th>\n",
       "      <th>PWGTP77</th>\n",
       "      <th>PWGTP78</th>\n",
       "      <th>PWGTP79</th>\n",
       "      <th>PWGTP80</th>\n",
       "    </tr>\n",
       "  </thead>\n",
       "  <tbody>\n",
       "    <tr>\n",
       "      <th>0</th>\n",
       "      <td>P</td>\n",
       "      <td>2018GQ0000225</td>\n",
       "      <td>8</td>\n",
       "      <td>1</td>\n",
       "      <td>300</td>\n",
       "      <td>4</td>\n",
       "      <td>8</td>\n",
       "      <td>1013097</td>\n",
       "      <td>26</td>\n",
       "      <td>16</td>\n",
       "      <td>...</td>\n",
       "      <td>23</td>\n",
       "      <td>4</td>\n",
       "      <td>24</td>\n",
       "      <td>33</td>\n",
       "      <td>53</td>\n",
       "      <td>46</td>\n",
       "      <td>5</td>\n",
       "      <td>4</td>\n",
       "      <td>47</td>\n",
       "      <td>42</td>\n",
       "    </tr>\n",
       "    <tr>\n",
       "      <th>1</th>\n",
       "      <td>P</td>\n",
       "      <td>2018GQ0000483</td>\n",
       "      <td>8</td>\n",
       "      <td>1</td>\n",
       "      <td>4103</td>\n",
       "      <td>4</td>\n",
       "      <td>8</td>\n",
       "      <td>1013097</td>\n",
       "      <td>41</td>\n",
       "      <td>19</td>\n",
       "      <td>...</td>\n",
       "      <td>7</td>\n",
       "      <td>40</td>\n",
       "      <td>39</td>\n",
       "      <td>43</td>\n",
       "      <td>41</td>\n",
       "      <td>6</td>\n",
       "      <td>41</td>\n",
       "      <td>6</td>\n",
       "      <td>41</td>\n",
       "      <td>44</td>\n",
       "    </tr>\n",
       "    <tr>\n",
       "      <th>2</th>\n",
       "      <td>P</td>\n",
       "      <td>2018GQ0000529</td>\n",
       "      <td>8</td>\n",
       "      <td>1</td>\n",
       "      <td>4101</td>\n",
       "      <td>4</td>\n",
       "      <td>8</td>\n",
       "      <td>1013097</td>\n",
       "      <td>16</td>\n",
       "      <td>24</td>\n",
       "      <td>...</td>\n",
       "      <td>31</td>\n",
       "      <td>16</td>\n",
       "      <td>1</td>\n",
       "      <td>32</td>\n",
       "      <td>17</td>\n",
       "      <td>15</td>\n",
       "      <td>16</td>\n",
       "      <td>17</td>\n",
       "      <td>2</td>\n",
       "      <td>18</td>\n",
       "    </tr>\n",
       "    <tr>\n",
       "      <th>3</th>\n",
       "      <td>P</td>\n",
       "      <td>2018GQ0000670</td>\n",
       "      <td>8</td>\n",
       "      <td>1</td>\n",
       "      <td>818</td>\n",
       "      <td>4</td>\n",
       "      <td>8</td>\n",
       "      <td>1013097</td>\n",
       "      <td>3</td>\n",
       "      <td>22</td>\n",
       "      <td>...</td>\n",
       "      <td>6</td>\n",
       "      <td>3</td>\n",
       "      <td>2</td>\n",
       "      <td>7</td>\n",
       "      <td>3</td>\n",
       "      <td>4</td>\n",
       "      <td>5</td>\n",
       "      <td>3</td>\n",
       "      <td>3</td>\n",
       "      <td>3</td>\n",
       "    </tr>\n",
       "    <tr>\n",
       "      <th>4</th>\n",
       "      <td>P</td>\n",
       "      <td>2018GQ0000721</td>\n",
       "      <td>8</td>\n",
       "      <td>1</td>\n",
       "      <td>819</td>\n",
       "      <td>4</td>\n",
       "      <td>8</td>\n",
       "      <td>1013097</td>\n",
       "      <td>17</td>\n",
       "      <td>65</td>\n",
       "      <td>...</td>\n",
       "      <td>22</td>\n",
       "      <td>0</td>\n",
       "      <td>17</td>\n",
       "      <td>37</td>\n",
       "      <td>0</td>\n",
       "      <td>0</td>\n",
       "      <td>30</td>\n",
       "      <td>16</td>\n",
       "      <td>17</td>\n",
       "      <td>1</td>\n",
       "    </tr>\n",
       "  </tbody>\n",
       "</table>\n",
       "<p>5 rows × 286 columns</p>\n",
       "</div>"
      ],
      "text/plain": [
       "  RT       SERIALNO  DIVISION  SPORDER  PUMA  REGION  ST   ADJINC  PWGTP  \\\n",
       "0  P  2018GQ0000225         8        1   300       4   8  1013097     26   \n",
       "1  P  2018GQ0000483         8        1  4103       4   8  1013097     41   \n",
       "2  P  2018GQ0000529         8        1  4101       4   8  1013097     16   \n",
       "3  P  2018GQ0000670         8        1   818       4   8  1013097      3   \n",
       "4  P  2018GQ0000721         8        1   819       4   8  1013097     17   \n",
       "\n",
       "   AGEP  ...  PWGTP71  PWGTP72  PWGTP73  PWGTP74  PWGTP75  PWGTP76  PWGTP77  \\\n",
       "0    16  ...       23        4       24       33       53       46        5   \n",
       "1    19  ...        7       40       39       43       41        6       41   \n",
       "2    24  ...       31       16        1       32       17       15       16   \n",
       "3    22  ...        6        3        2        7        3        4        5   \n",
       "4    65  ...       22        0       17       37        0        0       30   \n",
       "\n",
       "   PWGTP78  PWGTP79  PWGTP80  \n",
       "0        4       47       42  \n",
       "1        6       41       44  \n",
       "2       17        2       18  \n",
       "3        3        3        3  \n",
       "4       16       17        1  \n",
       "\n",
       "[5 rows x 286 columns]"
      ]
     },
     "execution_count": 1,
     "metadata": {},
     "output_type": "execute_result"
    }
   ],
   "source": [
    "from folktables import ACSDataSource, ACSEmployment, BasicProblem, adult_filter\n",
    "import numpy as np\n",
    "\n",
    "STATE = \"CO\"\n",
    "\n",
    "data_source = ACSDataSource(survey_year='2018', \n",
    "                            horizon='1-Year', \n",
    "                            survey='person')\n",
    "\n",
    "acs_data = data_source.get_data(states=[STATE], download=True)\n",
    "\n",
    "acs_data.head()"
   ]
  },
  {
   "attachments": {},
   "cell_type": "markdown",
   "metadata": {},
   "source": [
    "It is evident that our dataset consists of a lot of columns, each representing a different feature of interest. Some of such features are race(RAC1P), sex(SEX), employment status(ESR), Marital status(MAR) and so on. However, for the purposes of this blog, we will only be using some of these features. The features I have chosen are age, race, disability record, nativity  ,income and citizenship status because these factors are usually associated with allocative bias in different social contexts.\n"
   ]
  },
  {
   "cell_type": "code",
   "execution_count": 2,
   "metadata": {},
   "outputs": [],
   "source": [
    "#subsetting the features\n",
    "# Reducing number of features\n",
    "possible_features=[\"PINCP\", \"RAC1P\", \"CIT\",\"SEX\", \"DIS\",\"AGEP\",\"NATIVITY\"]\n",
    "acs_data[possible_features]\n",
    "features_to_use = [f for f in possible_features if f not in [\"PINCP\",\"SEX\"]]"
   ]
  },
  {
   "attachments": {},
   "cell_type": "markdown",
   "metadata": {},
   "source": [
    "From the folktables library, we will be usig the BasicProblem class to make a problem to predict whether a not an individual's income is greater that $50k based on their Race."
   ]
  },
  {
   "cell_type": "code",
   "execution_count": 3,
   "metadata": {},
   "outputs": [],
   "source": [
    "IncomeProblem = BasicProblem(\n",
    "    features=features_to_use,\n",
    "    target='PINCP', #total person's income\n",
    "    target_transform=lambda x: 1*(x>50000),\n",
    "    group=['SEX'],\n",
    "    preprocess=lambda x: x,\n",
    "    postprocess=lambda x: np.nan_to_num(x, -1),\n",
    ")\n",
    "\n",
    "features, label, group = IncomeProblem.df_to_numpy(acs_data)"
   ]
  },
  {
   "attachments": {},
   "cell_type": "markdown",
   "metadata": {},
   "source": [
    "Once we create the IncomeProblem object, we convert the dataframe to a numpy array that will feature three variables: features, label and group. We can then use these arrays to train our models. We will then be splitting out data set into training data and testing data. We can do so by using the train-test split class from the sklearn.model_selection model library. A test_size of 0.2 means that 20% of out dataset will be used for the testing dataset and 80% will be used as the training data set. After train-test split we will be ready to create a model and use our training data to train it."
   ]
  },
  {
   "cell_type": "code",
   "execution_count": 4,
   "metadata": {},
   "outputs": [],
   "source": [
    "from sklearn.model_selection import train_test_split\n",
    "X_train, X_test, y_train, y_test, group_train, group_test = train_test_split(\n",
    "    features, label, group, test_size=0.2, random_state=0)"
   ]
  },
  {
   "attachments": {},
   "cell_type": "markdown",
   "metadata": {},
   "source": [
    "# Basic Descriptives"
   ]
  },
  {
   "cell_type": "code",
   "execution_count": 5,
   "metadata": {},
   "outputs": [
    {
     "data": {
      "text/plain": [
       "(44742, 7)"
      ]
     },
     "execution_count": 5,
     "metadata": {},
     "output_type": "execute_result"
    }
   ],
   "source": [
    "import pandas as pd\n",
    "df = pd.DataFrame(X_train, columns = features_to_use)\n",
    "df[\"group\"] = group_train\n",
    "df[\"label\"] = y_train\n",
    "df.shape"
   ]
  },
  {
   "attachments": {},
   "cell_type": "markdown",
   "metadata": {},
   "source": [
    "The shape that the training dataset consists of 214,480 observations, with each instance having values for 7 different features."
   ]
  },
  {
   "attachments": {},
   "cell_type": "markdown",
   "metadata": {},
   "source": [
    "Let' see how many of these observations have an income of <= to an income of $50,000. As shown in the output below, 79.39% of people in Colorado have an income of less that or equal to 50,000 dollars."
   ]
  },
  {
   "cell_type": "code",
   "execution_count": 6,
   "metadata": {},
   "outputs": [
    {
     "name": "stdout",
     "output_type": "stream",
     "text": [
      "       Income  Count  Percentage\n",
      "0  <= $50,000  32972   73.693621\n",
      "1   > $50,000  11770   26.306379\n"
     ]
    }
   ],
   "source": [
    "income_gt_50k = df[df[\"label\"] == 1].shape[0]\n",
    "income_lt_50k = df[df[\"label\"] == 0].shape[0]\n",
    "\n",
    "total_count = df.shape[0]\n",
    "income_gt_50k_percent = income_gt_50k / total_count * 100\n",
    "income_lt_50k_percent = income_lt_50k / total_count * 100\n",
    "\n",
    "results = pd.DataFrame({\n",
    "    \"Income\": [\"<= $50,000\", \"> $50,000\"],\n",
    "    \"Count\": [income_lt_50k, income_gt_50k],\n",
    "    \"Percentage\": [income_lt_50k_percent, income_gt_50k_percent]\n",
    "})\n",
    "\n",
    "print(results)"
   ]
  },
  {
   "attachments": {},
   "cell_type": "markdown",
   "metadata": {},
   "source": [
    "If we were to delve deeper, we can seethat out of the people who have an income higher than $50,000 dollars, 26.87% are male while 14.56% are females."
   ]
  },
  {
   "cell_type": "code",
   "execution_count": 7,
   "metadata": {},
   "outputs": [
    {
     "name": "stdout",
     "output_type": "stream",
     "text": [
      " Group  Percentage\n",
      "  Male   32.725562\n",
      "Female   19.915254\n"
     ]
    }
   ],
   "source": [
    "income_gt_50k = df[df[\"label\"] == 1]\n",
    "male_income_gt_50k = income_gt_50k[income_gt_50k[\"group\"] == 1]\n",
    "female_income_gt_50k = income_gt_50k[income_gt_50k[\"group\"] == 2]\n",
    "\n",
    "male_percent = len(male_income_gt_50k) / len(df[df[\"group\"] == 1]) * 100\n",
    "female_percent = len(female_income_gt_50k) / len(df[df[\"group\"] == 2]) * 100\n",
    "\n",
    "results = pd.DataFrame({\n",
    "    \"Group\": [\"Male\", \"Female\"],\n",
    "    \"Percentage\": [male_percent, female_percent]\n",
    "})\n",
    "\n",
    "print(results.to_string(index=False))\n",
    "\n"
   ]
  },
  {
   "attachments": {},
   "cell_type": "markdown",
   "metadata": {},
   "source": [
    "The results produced from the code below shows the percentage of males that have an income of greater than $50,000 and percentage of female with an income greater than $50,000."
   ]
  },
  {
   "cell_type": "code",
   "execution_count": 8,
   "metadata": {},
   "outputs": [
    {
     "name": "stdout",
     "output_type": "stream",
     "text": [
      " Group  Count  Percentage\n",
      "  Male   7305   62.064571\n",
      "Female   4465   37.935429\n"
     ]
    }
   ],
   "source": [
    "income_gt_50k = df[df[\"label\"] == 1]\n",
    "income_count = income_gt_50k.groupby(\"group\").size()\n",
    "total_count = income_gt_50k.shape[0]\n",
    "income_percent = income_count / total_count * 100\n",
    "\n",
    "results = pd.DataFrame({\n",
    "    \"Group\": [\"Male\", \"Female\"],\n",
    "    \"Count\": list(income_count),\n",
    "    \"Percentage\": list(income_percent)\n",
    "})\n",
    "\n",
    "print(results.to_string(index=False))\n"
   ]
  },
  {
   "attachments": {},
   "cell_type": "markdown",
   "metadata": {},
   "source": [
    "We can observe that 64% of the total male have an income greater than $50k while 36% of the total female population has an income greater than $50k. We can see the summarized findings in the chart belowe"
   ]
  },
  {
   "cell_type": "code",
   "execution_count": 9,
   "metadata": {},
   "outputs": [
    {
     "data": {
      "image/png": "[encoded data removed]",
      "text/plain": [
       "<Figure size 1000x500 with 2 Axes>"
      ]
     },
     "metadata": {},
     "output_type": "display_data"
    }
   ],
   "source": [
    "import matplotlib.pyplot as plt\n",
    "\n",
    "fig, axs = plt.subplots(nrows=1, ncols=2, figsize=(10, 5))\n",
    "\n",
    "axs[0].bar([\"Male\", \"Female\"], [male_percent, female_percent], color=[\"#5975a4\", \"#cc8a63\"])\n",
    "axs[0].set_ylim(0, 100)\n",
    "axs[0].set_ylabel(\"Percentage of Individuals with Income > $50,000\")\n",
    "axs[0].set_title(\"Income > $50,000 by Gender\")\n",
    "\n",
    "axs[1].bar(\"Income > $50K\", income_percent[1], width=0.1, color=\"#5975a4\")\n",
    "axs[1].bar(\"Income > $50K\", income_percent[2], bottom=income_percent[1], width=0.1, color=\"#cc8a63\")\n",
    "axs[1].set_ylim(0, 100)\n",
    "axs[1].set_ylabel(\"Percentage of Individuals\")\n",
    "axs[1].set_title(\"Income > $50K by Gender\")\n",
    "axs[1].legend([\"Male\", \"Female\"])\n",
    "plt.show()\n"
   ]
  },
  {
   "attachments": {},
   "cell_type": "markdown",
   "metadata": {},
   "source": [
    "Now, let's observe the relation of race and sex with income:"
   ]
  },
  {
   "cell_type": "code",
   "execution_count": 10,
   "metadata": {},
   "outputs": [
    {
     "data": {
      "image/png": "[encoded data removed]",
      "text/plain": [
       "<Figure size 1000x600 with 1 Axes>"
      ]
     },
     "metadata": {},
     "output_type": "display_data"
    }
   ],
   "source": [
    "import pandas as pd\n",
    "import matplotlib.pyplot as plt\n",
    "import seaborn as sns\n",
    "\n",
    "# Computing proportion of positive labels by race and sex\n",
    "race_proportion = df.groupby([\"RAC1P\", \"group\"], as_index=False)[\"label\"].mean()\n",
    "\n",
    "sns.set_style(\"whitegrid\")\n",
    "plt.figure(figsize=(10, 6))\n",
    "ax = sns.barplot(data=race_proportion, x=\"RAC1P\", y=\"label\", hue=\"group\")\n",
    "\n",
    "plt.title(\"Distribution of Race and Sex with Income Over $50K\")\n",
    "plt.xlabel(\"Race Group\")\n",
    "plt.ylabel(\"Proportion of Individuals with Income Over $50K\")\n",
    "handles, labels = ax.get_legend_handles_labels()\n",
    "labels[0] = \"Male\"\n",
    "labels[1] = \"Female\"\n",
    "ax.legend(handles, labels, title=\"Group\")\n",
    "plt.show()\n"
   ]
  },
  {
   "attachments": {},
   "cell_type": "markdown",
   "metadata": {},
   "source": [
    "THe plot shows that for most race groups, there are more male populations with an income greater than 50k. The only exception to this is race group 4 which is \"Alaska Native alone\". Further more we can also observe that Asian alone is the race with the highest proportion of individuals with an income greater than 50k collectively between both the genders.\n",
    "\n",
    "Let's also obeserve the relationship between nativity and Income."
   ]
  },
  {
   "cell_type": "code",
   "execution_count": 11,
   "metadata": {},
   "outputs": [],
   "source": [
    "\n",
    "# Computing proportion of positive labels by race and sex\n",
    "cit_proportion = df.groupby([\"CIT\", \"group\"], as_index=False)[\"label\"].mean()\n"
   ]
  },
  {
   "cell_type": "code",
   "execution_count": 12,
   "metadata": {},
   "outputs": [
    {
     "data": {
      "image/png": "[encoded data removed]",
      "text/plain": [
       "<Figure size 1000x600 with 1 Axes>"
      ]
     },
     "metadata": {},
     "output_type": "display_data"
    }
   ],
   "source": [
    "import pandas as pd\n",
    "import matplotlib.pyplot as plt\n",
    "import seaborn as sns\n",
    "\n",
    "# Computing proportion of positive labels by citizenship\n",
    "cit_proportion = df.groupby([\"NATIVITY\"], as_index=False)[\"label\"].mean()\n",
    "\n",
    "\n",
    "sns.set_style(\"whitegrid\")\n",
    "plt.figure(figsize=(10, 6))\n",
    "sns.barplot(data=cit_proportion, x=\"NATIVITY\", y=\"label\")\n",
    "\n",
    "plt.title(\"Distribution of Nativity with Income Over $50K\")\n",
    "plt.xlabel(\"Nativity\")\n",
    "plt.ylabel(\"Proportion of Individuals with Income Over $50K\")\n",
    "plt.gca().set_xticklabels([\"Native\", \"Foreign Born\"])\n",
    "plt.show()\n"
   ]
  },
  {
   "attachments": {},
   "cell_type": "markdown",
   "metadata": {},
   "source": [
    "As shown by the bar chart, the poportion of individuals with an income over 50k for Native Born are higher than Foreign Born in Colorado."
   ]
  },
  {
   "attachments": {},
   "cell_type": "markdown",
   "metadata": {},
   "source": [
    "# Implementing a Model\n",
    "For our training data set, we will be using a decision tree model. It utilizes the Scikit-learn library to import the necessary modules, including SVC, LogisticRegression, make_pipeline, StandardScaler, confusion_matrix, cross_val_score, and DecisionTreeClassifier. The code also shows the process tuning a model and cross-validation for a decision tree classifier. It iterates over a range of depth values from 2 to 19. Inside the loop, a pipeline is created using make_pipeline, which includes StandardScaler for data preprocessing and DecisionTreeClassifier with the  depth value. Cross-validation scores are calculated using cross_val_score with cross-validation of 10 folds. Finally, best depth is the depth value equating to the highest score."
   ]
  },
  {
   "cell_type": "code",
   "execution_count": 13,
   "metadata": {},
   "outputs": [
    {
     "data": {
      "image/png": "[encoded data removed]",
      "text/plain": [
       "<Figure size 640x480 with 1 Axes>"
      ]
     },
     "metadata": {},
     "output_type": "display_data"
    },
    {
     "name": "stdout",
     "output_type": "stream",
     "text": [
      "The best depth is 9 with a CV score of 0.7433510512632892\n"
     ]
    }
   ],
   "source": [
    "from sklearn.svm import SVC\n",
    "from sklearn.linear_model import LogisticRegression\n",
    "from sklearn.pipeline import make_pipeline\n",
    "from sklearn.preprocessing import StandardScaler\n",
    "from sklearn.metrics import confusion_matrix\n",
    "from sklearn.model_selection import cross_val_score\n",
    "from sklearn.tree import DecisionTreeClassifier\n",
    "\n",
    "scores = []\n",
    "depths = range(2, 10)\n",
    "\n",
    "for depth in depths:\n",
    "    pipeline = make_pipeline(StandardScaler(), DecisionTreeClassifier(max_depth=depth))\n",
    "    score = cross_val_score(pipeline, X_train, y_train, cv=10)\n",
    "    scores.append(score.mean())\n",
    "\n",
    "best_depth = depths[np.argmax(scores)]\n",
    "\n",
    "plt.plot(depths, scores, '-o')\n",
    "plt.xlabel('Depth')\n",
    "plt.ylabel('Cross-validation score')\n",
    "plt.title('Accuracy by depth')\n",
    "plt.show()\n",
    "\n",
    "print(f\"The best depth is {best_depth} with a CV score of {max(scores)}\")"
   ]
  },
  {
   "cell_type": "code",
   "execution_count": 41,
   "metadata": {},
   "outputs": [
    {
     "data": {
      "text/plain": [
       "Pipeline(steps=[('standardscaler', StandardScaler()),\n",
       "                ('decisiontreeclassifier',\n",
       "                 DecisionTreeClassifier(max_depth=9))])"
      ]
     },
     "execution_count": 41,
     "metadata": {},
     "output_type": "execute_result"
    }
   ],
   "source": [
    "model = make_pipeline(StandardScaler(),DecisionTreeClassifier(max_depth=9))\n",
    "model.fit(X_train,y_train)"
   ]
  },
  {
   "attachments": {},
   "cell_type": "markdown",
   "metadata": {},
   "source": [
    "After building the model, we can check the accuracy scores:"
   ]
  },
  {
   "cell_type": "code",
   "execution_count": 42,
   "metadata": {},
   "outputs": [
    {
     "name": "stdout",
     "output_type": "stream",
     "text": [
      "The overall accuracy of our model is: 0.7411943500804578\n"
     ]
    }
   ],
   "source": [
    "y_hat=model.predict(X_test)\n",
    "\n",
    "overall_accuracy = model.score(X_test, y_test)\n",
    "\n",
    "print(f\"The overall accuracy of our model is: {overall_accuracy}\")\n"
   ]
  },
  {
   "cell_type": "code",
   "execution_count": 43,
   "metadata": {},
   "outputs": [
    {
     "name": "stdout",
     "output_type": "stream",
     "text": [
      "PPV: 0.5055118110236221\n",
      "False Negative Rate (FNR): 0.6697530864197531\n",
      "False Positive Rate (FPR): 0.11390568319226119\n"
     ]
    }
   ],
   "source": [
    "tn, fp, fn, tp = confusion_matrix(y_test, y_hat).ravel()\n",
    "\n",
    "post_predictive = tp / (tp+fp)\n",
    "print(f\"PPV: {post_predictive}\" )\n",
    "\n",
    "# calculating fnr and fpr\n",
    "fnr = fn / (fn + tp)\n",
    "fpr = fp / (fp + tn)\n",
    "\n",
    "print(f\"False Negative Rate (FNR): {fnr}\")\n",
    "print(f\"False Positive Rate (FPR): {fpr}\")\n"
   ]
  },
  {
   "attachments": {},
   "cell_type": "markdown",
   "metadata": {},
   "source": [
    "The PPV value indicates the reliability of positive predictions made by our model.This value means that when our model predicts an instance to belong to the positive class, it is correct about 50% times. This suggests that our model has high rate of false positives compared to true positives which means the model is struggling to accurately predict the positive class.\n",
    "\n",
    "The false negative rate of about 67% indicates that our model failed to recognize 60% of actual positive instances, and thus categorized them as negative. Also, 11.3% of actual negative instances were incorrectly classified as positive by our model as indicated by the falce positicve score."
   ]
  },
  {
   "cell_type": "code",
   "execution_count": 44,
   "metadata": {},
   "outputs": [
    {
     "name": "stdout",
     "output_type": "stream",
     "text": [
      "The accuracy score for males is 0.7074805288896939\n",
      "The False Negative Rate (FNR) for males is0.6748099891422367\n",
      "The False Positive Rate (FPR) for males is 0.1011144332699103\n",
      "\n",
      "The accuracy for females is 0.7740511915269197\n",
      "The False Negative Rate (FNR) for females is 0.6610800744878957\n",
      "The False Positive Rate (FPR) for females is 0.12415595730777608\n",
      "\n"
     ]
    }
   ],
   "source": [
    "# Calculating accuracy for male\n",
    "male_indices = group_test == 1\n",
    "male_indices = np.squeeze(male_indices)\n",
    "\n",
    "male_y_test = y_test[male_indices]\n",
    "male_y_hat = y_hat[male_indices]\n",
    "\n",
    "male_accuracy = np.mean(male_y_hat == male_y_test)\n",
    "\n",
    "male_tn, male_fp, male_fn, male_tp = confusion_matrix(male_y_test, male_y_hat).ravel()\n",
    "male_fnr = male_fn / (male_fn + male_tp)\n",
    "male_fpr = male_fp / (male_fp + male_tn)\n",
    "\n",
    "print(f\"The accuracy score for males is {male_accuracy}\")\n",
    "print(f\"The False Negative Rate (FNR) for males is{male_fnr}\")\n",
    "print(f\"The False Positive Rate (FPR) for males is {male_fpr}\\n\")\n",
    "\n",
    "# Calculating accuracy female \n",
    "female_indices = group_test == 2\n",
    "female_indices = np.squeeze(female_indices)\n",
    "\n",
    "female_y_test = y_test[female_indices]\n",
    "female_y_hat = y_hat[female_indices]\n",
    "\n",
    "female_accuracy = np.mean(female_y_hat == female_y_test)\n",
    "\n",
    "female_tn, female_fp, female_fn, female_tp = confusion_matrix(female_y_test, female_y_hat).ravel()\n",
    "female_fnr = female_fn / (female_fn + female_tp)\n",
    "female_fpr = female_fp / (female_fp + female_tn)\n",
    "\n",
    "print(f\"The accuracy for females is {female_accuracy}\")\n",
    "print(f\"The False Negative Rate (FNR) for females is {female_fnr}\")\n",
    "print(f\"The False Positive Rate (FPR) for females is {female_fpr}\\n\")\n"
   ]
  },
  {
   "attachments": {},
   "cell_type": "markdown",
   "metadata": {},
   "source": [
    "Although the model performs relatively well for both subgroups, there is a slight difference in accuracy, with females having a slightly higher accuracy compared to males. We will thus examine if our model is accurately calibrated."
   ]
  },
  {
   "cell_type": "code",
   "execution_count": 45,
   "metadata": {},
   "outputs": [
    {
     "name": "stdout",
     "output_type": "stream",
     "text": [
      "correctly predicted positive instances for men:  0.8988855667300897\n",
      "correctly predicted positive instances for female:  0.8758440426922239\n"
     ]
    }
   ],
   "source": [
    "\n",
    "male_indices = np.where(group_test == 1)[0]\n",
    "male_y_hat = y_hat[male_indices]\n",
    "male_y_test = y_test[male_indices]\n",
    "\n",
    "\n",
    "female_indices = np.where(group_test == 2)[0]\n",
    "female_y_hat = y_hat[female_indices]\n",
    "female_y_test = y_test[female_indices]\n",
    "\n",
    "matrix_male = confusion_matrix(male_y_test, male_y_hat)\n",
    "calibration_male = matrix_male[0, 0] / matrix_male[0].sum()\n",
    "matrix_female = confusion_matrix(female_y_test, female_y_hat)\n",
    "calibration_female = matrix_female[0, 0] / matrix_female[0].sum()\n",
    "\n",
    "print(f\"correctly predicted positive instances for men:  {calibration_male}\")\n",
    "print(f\"correctly predicted positive instances for female:  {calibration_female}\")\n"
   ]
  },
  {
   "attachments": {},
   "cell_type": "markdown",
   "metadata": {},
   "source": [
    "The process of Calibration involves checking if the predicted probabilities align with the predicted outcomes. For males, the proportion of correctly predicted positive instances (income greater than $50k) was approximately 0.879. Similarly, for women, the proportion of correctly predicted positive instances was approximately 0.843. Thus, the model appears to be relatively well calibrated for both males and females. In terms of the error rate balance, the fpr for men and fpr for women only has a difference of about 0.03 and about the same for fnr. Hence, the model does not show any significant imbalances in the error rates.\n",
    "\n",
    "Human Resources Departments in companies in Colorado could make a good use of our model to support salary adjustments across different genders. If the model was to show significant biases, it could lead to unfair treatment or discrimination against certain demographic groups. However in case of male and female in our model, there wasn't a significant bias, hence the impact of deploying your model for large-scale prediction might not cause problems. However, the accuracy scores for male indicates than the model with get it's predictions wrong for about 29 out of every 100 males and 24 out of every 100 females. These scores will have to be improved, if the model were to be used in any significant industry or decision making process.\n",
    "\n",
    "It is important to consider bias across other features as well and also to consider bias amongst other genders that are not male and female. Hence, I would believe, a lot more experiments are needed to be carried out before implementing this model in any large-scale prediction. Based on my bias audit, the model is not showing any significant problematic bias but as I mentioned earlie,r considering other features and expanding the dataset is essential in using the model for any significant predictions.\n"
   ]
  }
 ],
 "metadata": {
  "kernelspec": {
   "display_name": "ml-0451",
   "language": "python",
   "name": "ml-0451"
  },
  "language_info": {
   "codemirror_mode": {
    "name": "ipython",
    "version": 3
   },
   "file_extension": ".py",
   "mimetype": "text/x-python",
   "name": "python",
   "nbconvert_exporter": "python",
   "pygments_lexer": "ipython3",
   "version": "3.9.16"
  },
  "orig_nbformat": 4
 },
 "nbformat": 4,
 "nbformat_minor": 2
}
